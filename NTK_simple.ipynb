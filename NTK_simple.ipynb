{
  "cells": [
    {
      "cell_type": "markdown",
      "metadata": {
        "id": "view-in-github",
        "colab_type": "text"
      },
      "source": [
        "<a href=\"https://colab.research.google.com/github/sauptikdhar/NTKFunctorch/blob/main/NTK_simple.ipynb\" target=\"_parent\"><img src=\"https://colab.research.google.com/assets/colab-badge.svg\" alt=\"Open In Colab\"/></a>"
      ]
    },
    {
      "cell_type": "markdown",
      "source": [
        "# **Simple Experiment with Neural Tangent Kernel using Functorch**"
      ],
      "metadata": {
        "id": "5mpey3LSH_xr"
      },
      "id": "5mpey3LSH_xr"
    },
    {
      "cell_type": "markdown",
      "source": [
        "### **Description** In this notebook we explore the functorch library for experimenting with NTKs. The main recipe for obtaining the empirical NTK adopts using the vmap and jacrev apis to to obtain the tangents. Although a simple example to obtain the NTKs is already provided in https://pytorch.org/functorch/stable/notebooks/neural_tangent_kernels.html . The example is limited to single output and does not handle other complicacies while working with NTK's. Like,\n",
        "#### 1. The NTK shapes for MIMO systems.\n",
        "#### 2. Comparing with the Eqv. Kernel Solution.\n",
        "#### In this notebook we provide some simple helper functions and illustrate the  workings of NTK with a simple example. \n",
        "\n",
        "#### **Goal**:- The experiment set up is,\n",
        "#### 1. We use a 3 class problem digit 3 vs 5 vs 8 using MNIST data. \n",
        "#### 2. We train a \"properly\" initialized (3-layer) DNN to regress on the one-hot-encoded labels.\n",
        "#### 3. using the $k = \\underset{k}{\\text{argmax}} \\; f_k(x) $ as decision rule we predict the labels.\n",
        "#### We compare the performance of the DNN and the equivalent NTK for different size of hidden units."
      ],
      "metadata": {
        "id": "zjhsx9HWIY_5"
      },
      "id": "zjhsx9HWIY_5"
    },
    {
      "cell_type": "markdown",
      "id": "260a8198-d2da-47f0-be3b-732550a0e82a",
      "metadata": {
        "tags": [],
        "id": "260a8198-d2da-47f0-be3b-732550a0e82a"
      },
      "source": [
        "## Import Modules"
      ]
    },
    {
      "cell_type": "markdown",
      "source": [
        "### Install Functorch (See: https://github.com/pytorch/functorch ). Note that - At the time of writing this Functorch is mainly supported for version Pytorch 1.11."
      ],
      "metadata": {
        "id": "uVKtisGN0SB1"
      },
      "id": "uVKtisGN0SB1"
    },
    {
      "cell_type": "code",
      "source": [
        "!pip install functorch==0.1.1"
      ],
      "metadata": {
        "colab": {
          "base_uri": "https://localhost:8080/"
        },
        "id": "6ARVA0vsRqFB",
        "outputId": "612ad30f-b05b-4e96-86aa-fff6eb908fec"
      },
      "id": "6ARVA0vsRqFB",
      "execution_count": null,
      "outputs": [
        {
          "output_type": "stream",
          "name": "stdout",
          "text": [
            "Looking in indexes: https://pypi.org/simple, https://us-python.pkg.dev/colab-wheels/public/simple/\n",
            "Collecting functorch==0.1.1\n",
            "  Downloading functorch-0.1.1-cp37-cp37m-manylinux1_x86_64.whl (21.4 MB)\n",
            "\u001b[K     |████████████████████████████████| 21.4 MB 1.3 MB/s \n",
            "\u001b[?25hRequirement already satisfied: torch<1.12,>=1.11 in /usr/local/lib/python3.7/dist-packages (from functorch==0.1.1) (1.11.0+cu113)\n",
            "Requirement already satisfied: typing-extensions in /usr/local/lib/python3.7/dist-packages (from torch<1.12,>=1.11->functorch==0.1.1) (4.1.1)\n",
            "Installing collected packages: functorch\n",
            "Successfully installed functorch-0.1.1\n"
          ]
        }
      ]
    },
    {
      "cell_type": "markdown",
      "source": [
        "### **Import Modules**. Mainly we need \n",
        "#### 1. Torch, Torchvision\n",
        "#### 2. Functorch\n",
        "#### 3. Numpy\n",
        "#### 4. Matplotlib"
      ],
      "metadata": {
        "id": "ObeRwfsI10Rl"
      },
      "id": "ObeRwfsI10Rl"
    },
    {
      "cell_type": "code",
      "execution_count": null,
      "id": "781ebce5-2a8f-4d49-a08b-e1b75eb7e0b1",
      "metadata": {
        "tags": [],
        "id": "781ebce5-2a8f-4d49-a08b-e1b75eb7e0b1"
      },
      "outputs": [],
      "source": [
        "import gc\n",
        "import functorch as ft\n",
        "import torch\n",
        "import torchvision\n",
        "import torch.nn as nn\n",
        "from functorch import make_functional, vmap, jacrev\n",
        "from torch.nn import Module\n",
        "import torchvision.transforms as transforms\n",
        "from torch.optim import SGD\n",
        "import numpy as np\n",
        "import torch.nn.functional as F\n",
        "from torch.utils.data import DataLoader\n",
        "from torch.utils.data.sampler import BatchSampler\n",
        "import matplotlib.pyplot as plt\n",
        "%matplotlib inline\n",
        "import copy\n",
        " \n",
        "\n",
        "\n",
        "device = 'cuda'    # Ofcourse Faster!"
      ]
    },
    {
      "cell_type": "markdown",
      "id": "263e6bd6-cf64-45bd-85f1-e1ac7700fdcb",
      "metadata": {
        "id": "263e6bd6-cf64-45bd-85f1-e1ac7700fdcb"
      },
      "source": [
        "## Helper Functions"
      ]
    },
    {
      "cell_type": "markdown",
      "id": "b3232247-acaf-447c-9a02-5776e955329e",
      "metadata": {
        "tags": [],
        "id": "b3232247-acaf-447c-9a02-5776e955329e"
      },
      "source": [
        "### **[Helper 1] Balanced Sampler** - used to sample uniformly for prespecified classes. This helper function is used to sample equal number of samples from each classes prespecified by user"
      ]
    },
    {
      "cell_type": "code",
      "execution_count": null,
      "id": "559e8563-0f03-47e8-8506-1d32c9d2d833",
      "metadata": {
        "id": "559e8563-0f03-47e8-8506-1d32c9d2d833"
      },
      "outputs": [],
      "source": [
        "class BalancedBatchSampler(BatchSampler): \n",
        "    \"\"\"\n",
        "    BatchSampler - from a MNIST-like dataset, samples n_classes and within these classes samples n_samples.\n",
        "    Returns batches of size n_classes * n_samples\n",
        "    # CODE SOURCE : https://discuss.pytorch.org/t/load-the-same-number-of-data-per-class/65198/4\n",
        "    # LICENSE: BSD 3-Clause License (As suggested by Author use link: https://github.com/adambielski/siamese-triplet/blob/master/LICENSE \n",
        "    \"\"\"\n",
        "    def __init__(self, dataset, n_classes, n_samples, class_id = None, allSamples = False):\n",
        "        loader = DataLoader(dataset)\n",
        "        self.labels_list = []\n",
        "        \n",
        "        for _, label in loader:\n",
        "            self.labels_list.append(label)\n",
        "        \n",
        "        self.labels = torch.LongTensor(self.labels_list)\n",
        "        self.labels_set = list(set(self.labels.numpy()))\n",
        "        \n",
        "        self.label_to_indices = {label: np.where(self.labels.numpy() == label)[0]\n",
        "                                 for label in self.labels_set}\n",
        "        \n",
        "        for l in self.labels_set:\n",
        "            np.random.shuffle(self.label_to_indices[l])\n",
        "        self.used_label_indices_count = {label: 0 for label in self.labels_set}\n",
        "        self.count = 0\n",
        "        self.n_classes = n_classes\n",
        "        self.n_samples = n_samples\n",
        "        self.dataset = dataset\n",
        "        self.batch_size = self.n_samples * self.n_classes\n",
        "        self.class_id = class_id\n",
        "        self.allSamples = allSamples\n",
        " \n",
        "    def __iter__(self):\n",
        "        self.count = 0\n",
        "        while self.count + self.batch_size < len(self.dataset):\n",
        "            \n",
        "            if self.class_id is not None:\n",
        "                classes = self.class_id\n",
        "            else:\n",
        "                classes = np.random.choice(self.labels_set, self.n_classes, replace=False)\n",
        "            \n",
        "            indices = []\n",
        "            for class_ in classes:\n",
        "                if not self.allSamples: \n",
        "                    indices.extend(self.label_to_indices[class_][\n",
        "                                   self.used_label_indices_count[class_]:self.used_label_indices_count[\n",
        "                                                                        class_] + self.n_samples])\n",
        "                else: \n",
        "                    indices.extend(self.label_to_indices[class_])\n",
        "                \n",
        "                self.used_label_indices_count[class_] += self.n_samples\n",
        "                if self.used_label_indices_count[class_] + self.n_samples > len(self.label_to_indices[class_]):\n",
        "                    np.random.shuffle(self.label_to_indices[class_])\n",
        "                    self.used_label_indices_count[class_] = 0\n",
        "            yield indices\n",
        "            self.count += self.n_classes * self.n_samples\n",
        "\n",
        "    def __len__(self):\n",
        "        return len(self.dataset) // self.batch_size"
      ]
    },
    {
      "cell_type": "markdown",
      "id": "73d1138b-4a63-4b04-aa10-8023be92e7ed",
      "metadata": {
        "tags": [],
        "id": "73d1138b-4a63-4b04-aa10-8023be92e7ed"
      },
      "source": [
        "### **[Helper 2] Kernel Regression using NTKs (Helpers)** - Here we provide a few helper functions for \n",
        "\n",
        "#### a) **Computing NTK** (see https://pytorch.org/functorch/stable/notebooks/neural_tangent_kernels.html ) \n",
        "\n"
      ]
    },
    {
      "cell_type": "code",
      "execution_count": null,
      "id": "afa98206-43c2-4330-a49f-d64916906bb3",
      "metadata": {
        "id": "afa98206-43c2-4330-a49f-d64916906bb3"
      },
      "outputs": [],
      "source": [
        "def empirical_ntk(fnet_single, params, x1, x2):\n",
        "    # This code is taken from functorch tutorials and is licensed as:- https://github.com/pytorch/functorch/blob/main/LICENSE\n",
        "    # Compute J(x1)\n",
        "    jac1 = vmap(jacrev(fnet_single), (None, 0))(params, x1)\n",
        "    jac1 = [j.flatten(2) for j in jac1]\n",
        "    \n",
        "    # Compute J(x2)\n",
        "    jac2 = vmap(jacrev(fnet_single), (None, 0))(params, x2)\n",
        "    jac2 = [j.flatten(2) for j in jac2]\n",
        "    \n",
        "    # Compute J(x1) @ J(x2).T\n",
        "    result = torch.stack([torch.einsum('Naf,Mbf->NMab', j1, j2) for j1, j2 in zip(jac1, jac2)])\n",
        "    result = result.sum(0)\n",
        "    return result\n"
      ]
    },
    {
      "cell_type": "markdown",
      "source": [
        "b) This helper function helps to flatten the output accordingly. That is for the sample space solution $\\mathbf{y} =\\mathbf{K}\\boldsymbol{\\alpha}$ we assume $\\boldsymbol{\\alpha} = [\\alpha_{11},\\ldots,\\alpha_{1L},\\ldots,\\alpha_{i1},\\ldots,\\alpha_{iL}, \\ldots]$. $L =$ no. of classes, $i = 1 \\ldots N$; $N$ = No. of training samples.   \n",
        "\n",
        "$\\mathbf{K}$ has to be re-shaped equivalently."
      ],
      "metadata": {
        "id": "jdqcW9xKJ6Iu"
      },
      "id": "jdqcW9xKJ6Iu"
    },
    {
      "cell_type": "code",
      "source": [
        "def reshapeNTK(ntk):\n",
        "    # This helper reshapes the Kernel for multi-valued functions. \n",
        "    ntk = ntk.permute(0,2,1,3)\n",
        "    ntk = ntk.flatten(0,1)\n",
        "    ntk = ntk.flatten(1,2)\n",
        "    return ntk"
      ],
      "metadata": {
        "id": "qc5ozH-VJ5MR"
      },
      "id": "qc5ozH-VJ5MR",
      "execution_count": null,
      "outputs": []
    },
    {
      "cell_type": "markdown",
      "source": [
        "#### c) **Kernel Regression solution.**\n",
        "$$ \\underset{\\alpha}{\\text{min}} \\quad ||K(\\mathbf{x_{\\text{train}}}, \\mathbf{x_{\\text{train}}}) \\alpha - \\mathbf{y}_{train} ||_2^2 $$\n",
        "\n",
        "#### Closed form solution is:-\n",
        "\n",
        "$$ \\mathbf{y}_{\\text{test}} = K(\\mathbf{x_{\\text{test}}}, \\mathbf{x_{\\text{train}}}) b$$\n",
        "where, \n",
        "$$b = K(\\mathbf{x_{\\text{train}}}, \\mathbf{x_{\\text{train}}})^{-1}  \\mathbf{y} $$\n",
        "\n",
        "#### **Remarks** - Here we use K - NTK kernel"
      ],
      "metadata": {
        "id": "eqXy7UKX8hz1"
      },
      "id": "eqXy7UKX8hz1"
    },
    {
      "cell_type": "code",
      "source": [
        "def predictNTK(fnet,params,Xtst, Xtrn, Ytrn = None, precomputed = False, b = None):\n",
        "    \n",
        "    # Compute b\n",
        "    ntk_train = empirical_ntk(fnet, params, Xtrn, Xtrn)    \n",
        "    ntk_train = reshapeNTK(ntk_train)     # N-D Tensor to 2D Tensor (Matrix)\n",
        "    ntk_train = ntk_train.detach()\n",
        "    \n",
        "    if not precomputed:\n",
        "        Ktr = ntk_train.cpu().numpy()\n",
        "        del ntk_train\n",
        "        try:\n",
        "            Ktr_inv = np.linalg.solve(Ktr,np.eye(len(Ktr)))     # Kernel Inverse\n",
        "        except:\n",
        "            Ktr_inv = np.linalg.lstsq(Ktr,np.eye(len(Ktr)))[0]  \n",
        "        \n",
        "        print(Ktr_inv.shape)\n",
        "        # Check the solution to tolerance\n",
        "        print(\"Inverse Works = {}\".format(np.allclose(np.dot(Ktr, Ktr_inv), np.eye(len(Ktr_inv)),atol = 1e-3)))\n",
        "        b = np.dot(Ktr_inv,Ytrn)\n",
        "    \n",
        "    \n",
        "    ntk_test = empirical_ntk(fnet, params, Xtst, Xtrn)\n",
        "    ntk_test = reshapeNTK(ntk_test)\n",
        "    ntk_test = ntk_test.detach()\n",
        "    Ktst = ntk_test.cpu().numpy()\n",
        "    del ntk_test\n",
        "    Ytst = np.dot(Ktst,b)\n",
        "    return (Ytst,b)"
      ],
      "metadata": {
        "id": "UmENcVci8qiB"
      },
      "id": "UmENcVci8qiB",
      "execution_count": null,
      "outputs": []
    },
    {
      "cell_type": "markdown",
      "source": [
        "### **[Helper 3] Model Parameters** This helper function is used to get the model parameters."
      ],
      "metadata": {
        "id": "QJ90GMS2_eNQ"
      },
      "id": "QJ90GMS2_eNQ"
    },
    {
      "cell_type": "code",
      "source": [
        "def gtmodelparams(model):\n",
        "  W = []\n",
        "  for p in model.parameters():\n",
        "    wvals = p.flatten()\n",
        "    wvals =  wvals.data.cpu().numpy()\n",
        "    if len(W)==0:\n",
        "      W = wvals\n",
        "    else:\n",
        "      W = np.concatenate((W,wvals),axis=None)\n",
        "  return W\n"
      ],
      "metadata": {
        "id": "Z1tIuYEB9Kbu"
      },
      "id": "Z1tIuYEB9Kbu",
      "execution_count": null,
      "outputs": []
    },
    {
      "cell_type": "markdown",
      "source": [
        "# **Main Experiment**"
      ],
      "metadata": {
        "id": "iUIFz8UkCC_A"
      },
      "id": "iUIFz8UkCC_A"
    },
    {
      "cell_type": "markdown",
      "id": "4517d95f-2eb7-4295-a6aa-c3f022207cb8",
      "metadata": {
        "tags": [],
        "id": "4517d95f-2eb7-4295-a6aa-c3f022207cb8"
      },
      "source": [
        "### 1. Load Data\n",
        "#### For simplicity we cast a 3-class problem using the MNIST data, i.e. Digit 3 vs. Digit 5 vs. Digit 8.\n",
        "\n",
        "#### The experiment set-up involves,\n",
        "#### - No. of Training samples = 100 per class.\n",
        "#### - No. of Test Samples = All test samples of digits 3, 5 and 8."
      ]
    },
    {
      "cell_type": "code",
      "execution_count": null,
      "id": "f5d51b28-f35d-481c-af91-3f0b8b25741a",
      "metadata": {
        "colab": {
          "base_uri": "https://localhost:8080/",
          "height": 675,
          "referenced_widgets": [
            "0670a6b4f2b5421daa4d341b6ec10180",
            "b284c211af9548759d9c52daf8bf5e2e",
            "4204cc7674e04f5abcd38cb814151be5",
            "921c9ca2466c4e8bb07b6fd5edbb1842",
            "32f5d6ac687f41b7a87755d7a2c33cc2",
            "c209382b92a14f888e13d09c5c0c6004",
            "1a8b97ed227442cd8e586c5816f02e51",
            "0d5babc65ca246f48db18791751726dd",
            "496e7533fba649dfa15b34c61f2175a5",
            "7f2f8d798a3648a394440a8cdc8279d0",
            "699d8a944e8f40e98de9ae713cc6f7b7",
            "dc37894aef434e4ab5b6ce3e206fccb4",
            "ad21153aeb184b23a449bed45a37bf71",
            "6cc2b0b4d812449099a336066f707702",
            "e753c228e2d642b8a1bb8fbd8ec5cafd",
            "874d72293a0b4543afdab4ea7df260ef",
            "3fa87097e2c5444f8a27b7155e3a87cd",
            "879f10aaa2c54bcfbaf3eadedaacc247",
            "60f06ae13c004cb1a5ee36fc0df9da3c",
            "d9adc7145ad644bfa420ffebd2027ed7",
            "b776f3e2c1b24baf99794c7cb6aa6ea1",
            "443a3015652c4344a2109fb5dd8c8a2a",
            "f1791566404748c7ad8736aaa803ed49",
            "99787aed4b594dacb291f8912d83aa3c",
            "2cc2bbf73e874dbdba06459df9727745",
            "dfc2bd6d15b541b6a84f6a8a905aa575",
            "6d20facbe24f4e6cb43335f328697b62",
            "7503b951b1ea4f0991e687120aadf2e0",
            "eacebb97266842849288a6f63041a3a4",
            "3a1a24902bd547a0b82c3a22b6e2b7be",
            "d7b9ea8ba6ea46e28fa691d5597418f3",
            "eb97a84fe99146dfa04c052f6834e714",
            "4c642620895e4a9a82b1f65b9a3be867",
            "03ed0b5d55934df8adc8e3d16f352663",
            "eb892755e1fd46518ef083e840694525",
            "e1641b621780409d89b7c08528ad6bb6",
            "20ff2431610641dd89f480332e8c2298",
            "0f73405dfb754ef7ae4b005a19294bc6",
            "5d1e0a4ed6d14a4d983e03f562a030c1",
            "5bcec8e709d24c88b1c6a04fc8a3c513",
            "bc93e11a8f664f74adcf98e3d7076d78",
            "ed5cb75eefb5417ab6efbb12ab8e9810",
            "8f450e80e0424ee1a4a927fe368c84f5",
            "6585ec225dee4d7a9b62daa165c10f5d"
          ]
        },
        "id": "f5d51b28-f35d-481c-af91-3f0b8b25741a",
        "outputId": "5d642189-48b1-4cf4-e716-e46bbb9d21a2"
      },
      "outputs": [
        {
          "output_type": "stream",
          "name": "stdout",
          "text": [
            "Downloading http://yann.lecun.com/exdb/mnist/train-images-idx3-ubyte.gz\n",
            "Downloading http://yann.lecun.com/exdb/mnist/train-images-idx3-ubyte.gz to ./data/mnist/MNIST/raw/train-images-idx3-ubyte.gz\n"
          ]
        },
        {
          "output_type": "display_data",
          "data": {
            "text/plain": [
              "  0%|          | 0/9912422 [00:00<?, ?it/s]"
            ],
            "application/vnd.jupyter.widget-view+json": {
              "version_major": 2,
              "version_minor": 0,
              "model_id": "0670a6b4f2b5421daa4d341b6ec10180"
            }
          },
          "metadata": {}
        },
        {
          "output_type": "stream",
          "name": "stdout",
          "text": [
            "Extracting ./data/mnist/MNIST/raw/train-images-idx3-ubyte.gz to ./data/mnist/MNIST/raw\n",
            "\n",
            "Downloading http://yann.lecun.com/exdb/mnist/train-labels-idx1-ubyte.gz\n",
            "Downloading http://yann.lecun.com/exdb/mnist/train-labels-idx1-ubyte.gz to ./data/mnist/MNIST/raw/train-labels-idx1-ubyte.gz\n"
          ]
        },
        {
          "output_type": "display_data",
          "data": {
            "text/plain": [
              "  0%|          | 0/28881 [00:00<?, ?it/s]"
            ],
            "application/vnd.jupyter.widget-view+json": {
              "version_major": 2,
              "version_minor": 0,
              "model_id": "dc37894aef434e4ab5b6ce3e206fccb4"
            }
          },
          "metadata": {}
        },
        {
          "output_type": "stream",
          "name": "stdout",
          "text": [
            "Extracting ./data/mnist/MNIST/raw/train-labels-idx1-ubyte.gz to ./data/mnist/MNIST/raw\n",
            "\n",
            "Downloading http://yann.lecun.com/exdb/mnist/t10k-images-idx3-ubyte.gz\n",
            "Downloading http://yann.lecun.com/exdb/mnist/t10k-images-idx3-ubyte.gz to ./data/mnist/MNIST/raw/t10k-images-idx3-ubyte.gz\n"
          ]
        },
        {
          "output_type": "display_data",
          "data": {
            "text/plain": [
              "  0%|          | 0/1648877 [00:00<?, ?it/s]"
            ],
            "application/vnd.jupyter.widget-view+json": {
              "version_major": 2,
              "version_minor": 0,
              "model_id": "f1791566404748c7ad8736aaa803ed49"
            }
          },
          "metadata": {}
        },
        {
          "output_type": "stream",
          "name": "stdout",
          "text": [
            "Extracting ./data/mnist/MNIST/raw/t10k-images-idx3-ubyte.gz to ./data/mnist/MNIST/raw\n",
            "\n",
            "Downloading http://yann.lecun.com/exdb/mnist/t10k-labels-idx1-ubyte.gz\n",
            "Downloading http://yann.lecun.com/exdb/mnist/t10k-labels-idx1-ubyte.gz to ./data/mnist/MNIST/raw/t10k-labels-idx1-ubyte.gz\n"
          ]
        },
        {
          "output_type": "display_data",
          "data": {
            "text/plain": [
              "  0%|          | 0/4542 [00:00<?, ?it/s]"
            ],
            "application/vnd.jupyter.widget-view+json": {
              "version_major": 2,
              "version_minor": 0,
              "model_id": "03ed0b5d55934df8adc8e3d16f352663"
            }
          },
          "metadata": {}
        },
        {
          "output_type": "stream",
          "name": "stdout",
          "text": [
            "Extracting ./data/mnist/MNIST/raw/t10k-labels-idx1-ubyte.gz to ./data/mnist/MNIST/raw\n",
            "\n"
          ]
        },
        {
          "output_type": "display_data",
          "data": {
            "text/plain": [
              "<Figure size 432x288 with 1 Axes>"
            ],
            "image/png": "[encoded data removed]"
          },
          "metadata": {
            "needs_background": "light"
          }
        }
      ],
      "source": [
        "# Exp Setting\n",
        "\n",
        "class_id = [3,5,8]\n",
        "n_classes = len(class_id)     \n",
        "\n",
        "n_samples = 100\n",
        "batch_size = 100\n",
        "\n",
        "mnist_train =  torchvision.datasets.MNIST(root=\"./data/mnist\", train=True, download=True, transform=transforms.Compose([transforms.ToTensor()]))\n",
        "balanced_batch_sampler = BalancedBatchSampler(mnist_train, n_classes, n_samples,class_id =class_id)\n",
        "train_loader = torch.utils.data.DataLoader(mnist_train, batch_sampler=balanced_batch_sampler)\n",
        "\n",
        "sampled_data = iter(train_loader)\n",
        "images, labels = sampled_data.next()\n",
        "\n",
        "\n",
        "\n",
        "mnist_test = torchvision.datasets.MNIST('./data/mnist',train=False,download=True,transform=torchvision.transforms.Compose([transforms.ToTensor()]))\n",
        "\n",
        "\n",
        "balanced_batch_test = BalancedBatchSampler(mnist_test, n_classes, 100, class_id =class_id,allSamples = True) #n_classes, n_samples, class_id = None, allSamples = False\n",
        "test_loader = torch.utils.data.DataLoader(mnist_test, batch_sampler=balanced_batch_test)\n",
        "\n",
        "\n",
        "####  Us this to check the loaded data\n",
        "sampled_data_test = iter(test_loader)\n",
        "images_test, labels_test = sampled_data_test.next()\n",
        "\n",
        "def imshow(img):\n",
        "    npimg = img.numpy()\n",
        "    plt.imshow(np.transpose(npimg, (1, 2, 0)))\n",
        "\n",
        "imshow(torchvision.utils.make_grid(images[torch.randint(0,len(images),(100,)) ], nrow = 10))"
      ]
    },
    {
      "cell_type": "markdown",
      "id": "2c2429ba-df58-477f-93c2-10f7d6cfcf27",
      "metadata": {
        "id": "2c2429ba-df58-477f-93c2-10f7d6cfcf27"
      },
      "source": [
        "### 2. Define the Models. Following \n",
        "\n",
        "Jacot et. al. ''[Neural tangent kernel: Convergence and generalization in neural networks](https://https://proceedings.neurips.cc/paper/2018/file/5a4be1fa34e62bb8a6ec6b91d2462f5a-Paper.pdf).'' NeuRIPS 2018.\n",
        "\n",
        "\n",
        "\n",
        "We scale the weight vectors as $\\frac{1}{\\sqrt{n_{in}}}$ and the bias term with  $\\beta = 0.1$. That is we use a custom Linear layer as,\n",
        "$$ \\frac{1}{\\sqrt{n_{in}}} W\\mathbf{x} + \\beta b$$ where, $n_{in}$ is the dimension of $\\mathbf{x}$."
      ]
    },
    {
      "cell_type": "code",
      "execution_count": null,
      "id": "2d9e0094-6f68-4e50-afd7-435dab50b353",
      "metadata": {
        "id": "2d9e0094-6f68-4e50-afd7-435dab50b353"
      },
      "outputs": [],
      "source": [
        "\n",
        "class myLinear(nn.Module): # Modified from -> https://towardsdatascience.com/how-to-build-your-own-pytorch-neural-network-layer-from-scratch-842144d623f6\n",
        "    def __init__(self, in_features, out_features, bias=True, beta = 0.1):\n",
        "        super().__init__()\n",
        "        self.in_features = in_features\n",
        "        self.out_features = out_features\n",
        "        self.bias = bias\n",
        "        self.weight = torch.nn.Parameter(torch.randn(out_features, in_features))\n",
        "        self.bias = torch.nn.Parameter(torch.randn(out_features))\n",
        "        self.beta = beta\n",
        "       \n",
        "        \n",
        "    def forward(self, input):\n",
        "        output = (input @ self.weight.t())/np.sqrt(self.in_features) + self.beta*self.bias\n",
        "        return output\n",
        "\n",
        "\n",
        "\n",
        "class DNNNTK(nn.Module): #Standard Initialization\n",
        "    \"\"\"\n",
        "    a low precision Linear model\n",
        "    \"\"\"\n",
        "    def __init__(self):\n",
        "        super(DNNNTK, self).__init__()\n",
        "        self.fc1 = myLinear(784, hidden_dim)\n",
        "        self.fc2 = myLinear(hidden_dim, hidden_dim)\n",
        "        self.fc3 = myLinear(hidden_dim, hidden_dim)\n",
        "        self.final = myLinear(hidden_dim, n_classes)\n",
        "        \n",
        "    \n",
        "    def forward(self, x):\n",
        "        out = self.fc1(x)\n",
        "        out = self.fc2(F.relu(out))\n",
        "        out = self.fc3(F.relu(out))\n",
        "        out = self.final(F.relu(out))\n",
        "        return out  \n",
        "\n",
        "\n"
      ]
    },
    {
      "cell_type": "markdown",
      "source": [
        "### Training the DL models - This is vanilla DL training using SGD! Nothing Fancy"
      ],
      "metadata": {
        "id": "zUcnn2vLL2m6"
      },
      "id": "zUcnn2vLL2m6"
    },
    {
      "cell_type": "code",
      "source": [
        "trn_acc_all = dict()\n",
        "tst_acc_all = dict()\n",
        "rel_W = dict()\n",
        "epochs_all = dict()\n",
        "tst_acc_kernel = dict() # Run Only Once"
      ],
      "metadata": {
        "id": "VqLLp0lD-ZeJ"
      },
      "id": "VqLLp0lD-ZeJ",
      "execution_count": null,
      "outputs": []
    },
    {
      "cell_type": "code",
      "source": [
        "\n",
        "hidden_dim = 200  # 10, 50, 100, 200\n",
        "trn_acc_all[hidden_dim] = []\n",
        "tst_acc_all[hidden_dim] = []\n",
        "rel_W[hidden_dim] = []\n",
        "epochs_all[hidden_dim] = []\n",
        "\n",
        "\n",
        "model = DNNNTK()# Initialize Model\n",
        "modelB=copy.deepcopy(model)   # Will be used later\n",
        "model=model.to(device)   \n",
        "\n",
        "\n",
        "W0 = gtmodelparams(model)     # Get the initialized parameters\n",
        "\n",
        "\n",
        "train_loss = nn.MSELoss()     # Least Square Loss on one-hot-encoding\n",
        "optimizer = SGD(model.parameters(), lr=0.5) # Basic SGD -> Contrary to popular SGD theory Authors use learning rate = 1.0. We use a smaller learning rate. \n",
        "\n",
        "\n",
        "# Load the Training data. We use Batch Size = 100 and run over 50000 iterations of SGD updates.\n",
        "batch_size = 100\n",
        "EPOCH = 50000   # Change as needed\n",
        "\n",
        "sampled_data = iter(train_loader)\n",
        "images, imlabels = sampled_data.next()\n",
        "N = len(images)\n",
        "\n",
        "print('Training 3 class NN model with N = {} samples'.format(N))\n",
        "\n",
        "\n",
        "# Map labels for One-hot-Encoding.\n",
        "# Since the class labels are class ids we map them to eqv integers [0,1,2,...]\n",
        "\n",
        "labelMap = dict()\n",
        "for (i,K) in enumerate(class_id):\n",
        "    labelMap[K] = i\n",
        "    \n",
        "\n",
        "\n",
        "\n",
        "## Run the Training Iterations\n",
        "for e in range(EPOCH):\n",
        "    loss_epoch = 0.0\n",
        "    n_batches = 0\n",
        "    \n",
        "    ind = torch.randint(0,N,(batch_size,))  # Emulate an SGD - stochastic\n",
        "    inputs, label = images[ind],imlabels[ind]\n",
        "    \n",
        "    inputs=inputs.view(-1,28*28)\n",
        "    label = torch.tensor([labelMap[float(K.numpy())] for K in label])\n",
        "    labels = F.one_hot(label,num_classes = n_classes).float()\n",
        "    \n",
        "    \n",
        "    \n",
        "    inputs = inputs.to(device)      # in GPU\n",
        "    labels = labels.to(device)      # in GPU\n",
        "    \n",
        "    \n",
        "    # Clear gradients\n",
        "    optimizer.zero_grad()\n",
        "\n",
        "    \n",
        "    # Backprop\n",
        "    outputs = model(inputs)            # in GPU\n",
        "    loss = train_loss(outputs,labels)\n",
        "    loss.backward()\n",
        "    optimizer.step()\n",
        "\n",
        "    loss_epoch += loss.item()\n",
        "    n_batches += 1\n",
        "\n",
        "    # Collect Stats - We collect Test, Training accuracies and the relative change in weights.\n",
        "    model.eval()\n",
        "    \n",
        "    if e%5000 == 0:\n",
        "        total = 0.0\n",
        "        correct = 0.0\n",
        "        for tstX,tsty in test_loader:\n",
        "            tstymap = torch.tensor([labelMap[float(K.numpy())] for K in tsty])\n",
        "            Xtst = tstX.view(-1,28*28)\n",
        "            Xtst = Xtst.to(device)     # in GPU\n",
        "            ytst_out = model(Xtst)     # in GPU\n",
        "            _,ytst_pred = torch.max(ytst_out.data,1)  # Multi-output  --> # in GPU\n",
        "            total += tsty.size(0)\n",
        "            correct += float((ytst_pred.cpu()==tstymap).sum())\n",
        "        tst_acc = 100.0*(correct/total)\n",
        "\n",
        "\n",
        "        # Train Accuracy\n",
        "        trnymap = torch.tensor([labelMap[float(K.numpy())] for K in imlabels])\n",
        "        Xtrn = images.view(-1,28*28)\n",
        "        Xtrn = Xtrn.to(device)     # in GPU\n",
        "        ytrn_out = model(Xtrn)     # in GPU\n",
        "        _,ytrn_pred = torch.max(ytrn_out.data,1)  # Multi-output  --> # in GPU\n",
        "        total = imlabels.size(0)\n",
        "        correct = float((ytrn_pred.cpu()==trnymap).sum())\n",
        "        tr_acc = 100.0*(correct/total)\n",
        "        \n",
        "        W = gtmodelparams(model)\n",
        "        norm_W = np.linalg.norm(W-W0)/np.linalg.norm(W0)\n",
        "      \n",
        "        print(\"Epochs = {}, Loss(sup) = {}, Trn Acc = {}, Tst Acc. = {}, Norm W = {}\".format(e,loss.item(),tr_acc,tst_acc,norm_W))\n",
        "        \n",
        "        trn_acc_all[hidden_dim].append(tr_acc)\n",
        "        tst_acc_all[hidden_dim].append(tst_acc)\n",
        "        rel_W[hidden_dim].append(norm_W)\n",
        "        epochs_all[hidden_dim].append(e)\n",
        "\n"
      ],
      "metadata": {
        "colab": {
          "base_uri": "https://localhost:8080/"
        },
        "id": "8CsK0RhR79qX",
        "outputId": "73a90539-5122-4825-81ea-0ab1f1870c52"
      },
      "id": "8CsK0RhR79qX",
      "execution_count": null,
      "outputs": [
        {
          "output_type": "stream",
          "name": "stdout",
          "text": [
            "Training 3 class NN model with N = 300 samples\n",
            "Epochs = 0, Loss(sup) = 0.3695853352546692, Trn Acc = 28.000000000000004, Tst Acc. = 32.26703755215577, Norm W = 0.0001152057375293225\n",
            "Epochs = 5000, Loss(sup) = 0.03798897564411163, Trn Acc = 98.0, Tst Acc. = 90.33379694019472, Norm W = 0.03338835388422012\n",
            "Epochs = 10000, Loss(sup) = 0.0157405287027359, Trn Acc = 100.0, Tst Acc. = 91.27260083449235, Norm W = 0.04287951812148094\n",
            "Epochs = 15000, Loss(sup) = 0.009646099992096424, Trn Acc = 100.0, Tst Acc. = 91.58553546592489, Norm W = 0.04930192604660988\n",
            "Epochs = 20000, Loss(sup) = 0.004804345313459635, Trn Acc = 100.0, Tst Acc. = 91.72461752433935, Norm W = 0.05360570549964905\n",
            "Epochs = 25000, Loss(sup) = 0.0031690613832324743, Trn Acc = 100.0, Tst Acc. = 91.68984700973574, Norm W = 0.05645202845335007\n",
            "Epochs = 30000, Loss(sup) = 0.0018274512840434909, Trn Acc = 100.0, Tst Acc. = 91.7941585535466, Norm W = 0.0583702027797699\n",
            "Epochs = 35000, Loss(sup) = 0.001137229846790433, Trn Acc = 100.0, Tst Acc. = 91.96801112656468, Norm W = 0.05972578376531601\n",
            "Epochs = 40000, Loss(sup) = 0.0005948308389633894, Trn Acc = 100.0, Tst Acc. = 92.00278164116828, Norm W = 0.06071820855140686\n",
            "Epochs = 45000, Loss(sup) = 0.0004559856897685677, Trn Acc = 100.0, Tst Acc. = 92.0375521557719, Norm W = 0.06145630031824112\n"
          ]
        }
      ]
    },
    {
      "cell_type": "markdown",
      "source": [
        "### Running the above cell for different dimensions we get the following Figures."
      ],
      "metadata": {
        "id": "ZnFjRIBaQfL5"
      },
      "id": "ZnFjRIBaQfL5"
    },
    {
      "cell_type": "markdown",
      "id": "62ae5bbf-0108-4c3d-a442-2e37571c1790",
      "metadata": {
        "id": "62ae5bbf-0108-4c3d-a442-2e37571c1790"
      },
      "source": [
        "# **Equivalent  - Kernel Regression using the NTK kernel.**\n",
        "### Here comes the fun part. As proved in Jacot et. al. ''[Neural tangent kernel: Convergence and generalization in neural networks](https://https://proceedings.neurips.cc/paper/2018/file/5a4be1fa34e62bb8a6ec6b91d2462f5a-Paper.pdf).'' NeuRIPS 2018.    \n",
        "\n",
        "#### For infinite width networks the Kernel regression solution  \n",
        "$$ \\underset{\\alpha}{\\text{min}} \\quad ||K(\\mathbf{x_{\\text{train}}}, \\mathbf{x_{\\text{train}}}) \\alpha - \\mathbf{y}_{train} ||_2^2 $$\n",
        "\n",
        "\n",
        "#### yields similar solution as the DNN. The similarity (loosely the accuracy) of the Kernel solution depends on the width (no. of hiddent units) of the network."
      ]
    },
    {
      "cell_type": "code",
      "execution_count": null,
      "id": "7c944c8f-2904-492c-8c7c-2e95b9c57c22",
      "metadata": {
        "id": "7c944c8f-2904-492c-8c7c-2e95b9c57c22"
      },
      "outputs": [],
      "source": [
        "# Clean GPU Memory - Calculating the Kernel Regression (using basic Linalg routines is memory intensive)\n",
        "del inputs\n",
        "del labels\n",
        "del outputs\n",
        "del Xtst\n",
        "del ytst_out\n",
        "del ytst_pred\n",
        "del Xtrn\n",
        "del ytrn_out\n",
        "del ytrn_pred\n",
        "\n",
        "\n",
        "gc.collect()\n",
        "torch.cuda.empty_cache()"
      ]
    },
    {
      "cell_type": "markdown",
      "id": "3754b0aa-12c9-4475-8eec-7d72b8c3b16c",
      "metadata": {
        "id": "3754b0aa-12c9-4475-8eec-7d72b8c3b16c"
      },
      "source": [
        "#### Load the Training and Test Data"
      ]
    },
    {
      "cell_type": "code",
      "execution_count": null,
      "id": "46cd1f65-2558-435f-b1bc-5cfef702490b",
      "metadata": {
        "id": "46cd1f65-2558-435f-b1bc-5cfef702490b"
      },
      "outputs": [],
      "source": [
        "x_train = images.view(-1,28*28)\n",
        "x_train = x_train.to(device)   # in GPU\n",
        "imlabels = torch.tensor([labelMap[float(K.numpy())] for K in imlabels])\n",
        "y_train = F.one_hot(imlabels,num_classes = n_classes).float()\n",
        "y_train= y_train.flatten()\n",
        "\n",
        "\n",
        "sampled_data_test = iter(test_loader)\n",
        "x_tst, y_tst = sampled_data_test.next()\n",
        "x_tst = x_tst.view(-1,28*28)\n",
        "x_tst = x_tst.to(device)                            #in GPU\n",
        "y_tst = torch.tensor([labelMap[float(K.numpy())] for K in y_tst])\n",
        "\n"
      ]
    },
    {
      "cell_type": "markdown",
      "id": "8ea4cf85-8fc9-4d32-a37f-b662c64b79f6",
      "metadata": {
        "id": "8ea4cf85-8fc9-4d32-a37f-b662c64b79f6"
      },
      "source": [
        "#### a. Convert the model into functional form to get the NTKs - see https://pytorch.org/functorch/stable/notebooks/neural_tangent_kernels.html"
      ]
    },
    {
      "cell_type": "code",
      "execution_count": null,
      "id": "c106a7a1-f555-4e23-be63-95a27f17536c",
      "metadata": {
        "id": "c106a7a1-f555-4e23-be63-95a27f17536c"
      },
      "outputs": [],
      "source": [
        "model = modelB.to(device)   # Same Initialization - Be sure that we are using the correct models!\n",
        "fnet, params = make_functional(model)\n",
        "def fnet_single(params, x):\n",
        "    return fnet(params, x.unsqueeze(0)).squeeze(0)"
      ]
    },
    {
      "cell_type": "code",
      "execution_count": null,
      "id": "76840ee0-6c39-4338-bf02-cc33dc6d7062",
      "metadata": {
        "id": "76840ee0-6c39-4338-bf02-cc33dc6d7062"
      },
      "outputs": [],
      "source": [
        "del model \n",
        "gc.collect()\n",
        "torch.cuda.empty_cache()"
      ]
    },
    {
      "cell_type": "markdown",
      "id": "2a8c0fd3-b6a3-4add-afd8-8d8355749120",
      "metadata": {
        "id": "2a8c0fd3-b6a3-4add-afd8-8d8355749120"
      },
      "source": [
        "### b. Obtain the Kernel Solution. "
      ]
    },
    {
      "cell_type": "code",
      "execution_count": null,
      "id": "fea3249e-6ebc-492e-9408-b5966e111578",
      "metadata": {
        "colab": {
          "base_uri": "https://localhost:8080/"
        },
        "id": "fea3249e-6ebc-492e-9408-b5966e111578",
        "outputId": "f696ea30-53dc-48d5-a276-ee59a24456f6"
      },
      "outputs": [
        {
          "output_type": "stream",
          "name": "stdout",
          "text": [
            "(900, 900)\n",
            "Inverse Works = True\n",
            "The test Accuracy = 91.30737134909597\n"
          ]
        }
      ],
      "source": [
        "# Training Kernel Inverse\n",
        "b = []\n",
        "precomputed = False\n",
        "\n",
        "correct = 0.\n",
        "total = 0.\n",
        "\n",
        "\n",
        "y_tst_pred, b = predictNTK(fnet,params,x_tst, x_train, Ytrn = y_train, precomputed = precomputed, b = None)    #in GPU\n",
        "y_tst_pred = y_tst_pred.reshape((-1,n_classes))\n",
        "y_tst_pred_label = np.argmax(y_tst_pred,axis=1)    \n",
        "\n",
        "correct += sum([1 if y1==y2 else 0 for y1, y2 in zip(y_tst_pred_label,y_tst) ])\n",
        "total += y_tst.size(0)\n",
        "\n",
        "\n",
        "tst_acc = 100.0*(correct/total)\n",
        "print('The test Accuracy = {}'.format(tst_acc))\n",
        "\n",
        "tst_acc_kernel[hidden_dim] = tst_acc"
      ]
    },
    {
      "cell_type": "code",
      "execution_count": null,
      "id": "79320081-01c3-4766-8c3b-64071845912e",
      "metadata": {
        "id": "79320081-01c3-4766-8c3b-64071845912e"
      },
      "outputs": [],
      "source": [
        "gc.collect()\n",
        "torch.cuda.empty_cache()"
      ]
    },
    {
      "cell_type": "markdown",
      "source": [
        "## Finally after running the codes for different width 10, 50 , 200 we get the following results.\n",
        "\n",
        "### **Remarks**"
      ],
      "metadata": {
        "id": "jjeWe9fAQJDz"
      },
      "id": "jjeWe9fAQJDz"
    },
    {
      "cell_type": "code",
      "source": [
        "import matplotlib.pyplot as plt\n",
        "\n",
        "for hid_dim in epochs_all:\n",
        "  plt.plot(epochs_all[hid_dim], trn_acc_all[hid_dim], label = \"Dimensions = {}\".format(hid_dim))\n",
        "  \n",
        "plt.legend()\n",
        "plt.title('Training Curve')\n",
        "plt.xlabel('Epochs')\n",
        "plt.ylabel('Train Error')\n",
        "plt.show()\n",
        "\n",
        "for hid_dim in epochs_all:\n",
        "  plt.plot(epochs_all[hid_dim], tst_acc_all[hid_dim], label = \"Dimensions = {}\".format(hid_dim))\n",
        "  \n",
        "plt.legend()\n",
        "plt.title('Test Curve')\n",
        "plt.xlabel('Epochs')\n",
        "plt.ylabel('Test Error')\n",
        "plt.show()\n",
        "\n",
        "\n",
        "for hid_dim in epochs_all:\n",
        "  plt.plot(epochs_all[hid_dim], rel_W[hid_dim], label = \"Dimensions = {}\".format(hid_dim))\n",
        "  \n",
        "plt.legend()\n",
        "plt.title('Rel Weight')\n",
        "plt.xlabel('Epochs')\n",
        "plt.ylabel('Rel. Weight')\n",
        "plt.show()"
      ],
      "metadata": {
        "colab": {
          "base_uri": "https://localhost:8080/",
          "height": 851
        },
        "id": "T-jmKlYjUXB7",
        "outputId": "d306c048-fd31-4e85-b2a7-40a441d076f7"
      },
      "execution_count": null,
      "outputs": [
        {
          "output_type": "display_data",
          "data": {
            "text/plain": [
              "<Figure size 432x288 with 1 Axes>"
            ],
            "image/png": "[encoded data removed]"
          },
          "metadata": {
            "needs_background": "light"
          }
        },
        {
          "output_type": "display_data",
          "data": {
            "text/plain": [
              "<Figure size 432x288 with 1 Axes>"
            ],
            "image/png": "[encoded data removed]"
          },
          "metadata": {
            "needs_background": "light"
          }
        },
        {
          "output_type": "display_data",
          "data": {
            "text/plain": [
              "<Figure size 432x288 with 1 Axes>"
            ],
            "image/png": "[encoded data removed]"
          },
          "metadata": {
            "needs_background": "light"
          }
        }
      ],
      "id": "T-jmKlYjUXB7"
    },
    {
      "cell_type": "markdown",
      "source": [
        "#### As seen from the curves the relative change in weights (compared to initial weight) $\\frac{||\\mathbf{w}_k - \\mathbf{w}_0||}{|| \\mathbf{w}_0 || }$ becomes smaller as the no. of hidden units increase."
      ],
      "metadata": {
        "id": "m1VTSrkMLEny"
      },
      "id": "m1VTSrkMLEny"
    },
    {
      "cell_type": "code",
      "source": [
        "print('Final Results')\n",
        "print('-------------------------------------------------------------------')\n",
        "print('Dimension     |       DNN                    |       NTK          ')\n",
        "print('-------------------------------------------------------------------')\n",
        "for hid_dim in tst_acc_kernel:\n",
        "  print('{}          |     {:.2f}             |            {:.2f}'.format(hid_dim,tst_acc_all[hid_dim][-1],tst_acc_kernel[hid_dim]))\n",
        "print('-------------------------------------------------------------------\\n')\n"
      ],
      "metadata": {
        "colab": {
          "base_uri": "https://localhost:8080/"
        },
        "id": "j2Yao0XUQY42",
        "outputId": "da8dab12-9dd1-4f67-be60-96d0cb57766e"
      },
      "id": "j2Yao0XUQY42",
      "execution_count": null,
      "outputs": [
        {
          "output_type": "stream",
          "name": "stdout",
          "text": [
            "Final Results\n",
            "-------------------------------------------------------------------\n",
            "Dimension     |       DNN                    |       NTK          \n",
            "-------------------------------------------------------------------\n",
            "10          |     86.61             |            47.39\n",
            "50          |     89.29             |            82.30\n",
            "100          |     90.06             |            88.87\n",
            "200          |     92.04             |            91.31\n",
            "-------------------------------------------------------------------\n",
            "\n"
          ]
        }
      ]
    },
    {
      "cell_type": "markdown",
      "source": [
        "#### This is inline to NTK theory and as such the NTK approx. for high no. of hidden units is much better. Note that for hidden_dim = 10 The NTK performance is extremely bad.\n",
        "\n",
        "## Hence as the no. of units $\\rightarrow ∞$, the DNN $\\rightarrow$ NTK.(loosely)."
      ],
      "metadata": {
        "id": "Yl_1FN7DLi14"
      },
      "id": "Yl_1FN7DLi14"
    },
    {
      "cell_type": "markdown",
      "source": [
        "### For further reading please see,\n",
        "### 1. [Neural Tangent Kernel: Convergence and Generalization in Neural Networks](https://proceedings.neurips.cc/paper/2018/file/5a4be1fa34e62bb8a6ec6b91d2462f5a-Paper.pdf)\n",
        "### 2. [Enhanced Convolutional Neural Tangent Kernels](https://arxiv.org/pdf/1911.00809.pdf)\n",
        "### 3. Simple reading -> https://rajatvd.github.io/NTK/"
      ],
      "metadata": {
        "id": "q7Q4no3TMe0w"
      },
      "id": "q7Q4no3TMe0w"
    }
  ],
  "metadata": {
    "kernelspec": {
      "display_name": "Python 3 (ipykernel)",
      "language": "python",
      "name": "python3"
    },
    "language_info": {
      "codemirror_mode": {
        "name": "ipython",
        "version": 3
      },
      "file_extension": ".py",
      "mimetype": "text/x-python",
      "name": "python",
      "nbconvert_exporter": "python",
      "pygments_lexer": "ipython3",
      "version": "3.9.11"
    },
    "colab": {
      "name": " NTK_simple.ipynb",
      "provenance": [],
      "collapsed_sections": [],
      "include_colab_link": true
    },
    "accelerator": "GPU",
    "gpuClass": "standard",
    "widgets": {
      "application/vnd.jupyter.widget-state+json": {
        "0670a6b4f2b5421daa4d341b6ec10180": {
          "model_module": "@jupyter-widgets/controls",
          "model_name": "HBoxModel",
          "model_module_version": "1.5.0",
          "state": {
            "_dom_classes": [],
            "_model_module": "@jupyter-widgets/controls",
            "_model_module_version": "1.5.0",
            "_model_name": "HBoxModel",
            "_view_count": null,
            "_view_module": "@jupyter-widgets/controls",
            "_view_module_version": "1.5.0",
            "_view_name": "HBoxView",
            "box_style": "",
            "children": [
              "IPY_MODEL_b284c211af9548759d9c52daf8bf5e2e",
              "IPY_MODEL_4204cc7674e04f5abcd38cb814151be5",
              "IPY_MODEL_921c9ca2466c4e8bb07b6fd5edbb1842"
            ],
            "layout": "IPY_MODEL_32f5d6ac687f41b7a87755d7a2c33cc2"
          }
        },
        "b284c211af9548759d9c52daf8bf5e2e": {
          "model_module": "@jupyter-widgets/controls",
          "model_name": "HTMLModel",
          "model_module_version": "1.5.0",
          "state": {
            "_dom_classes": [],
            "_model_module": "@jupyter-widgets/controls",
            "_model_module_version": "1.5.0",
            "_model_name": "HTMLModel",
            "_view_count": null,
            "_view_module": "@jupyter-widgets/controls",
            "_view_module_version": "1.5.0",
            "_view_name": "HTMLView",
            "description": "",
            "description_tooltip": null,
            "layout": "IPY_MODEL_c209382b92a14f888e13d09c5c0c6004",
            "placeholder": "​",
            "style": "IPY_MODEL_1a8b97ed227442cd8e586c5816f02e51",
            "value": ""
          }
        },
        "4204cc7674e04f5abcd38cb814151be5": {
          "model_module": "@jupyter-widgets/controls",
          "model_name": "FloatProgressModel",
          "model_module_version": "1.5.0",
          "state": {
            "_dom_classes": [],
            "_model_module": "@jupyter-widgets/controls",
            "_model_module_version": "1.5.0",
            "_model_name": "FloatProgressModel",
            "_view_count": null,
            "_view_module": "@jupyter-widgets/controls",
            "_view_module_version": "1.5.0",
            "_view_name": "ProgressView",
            "bar_style": "success",
            "description": "",
            "description_tooltip": null,
            "layout": "IPY_MODEL_0d5babc65ca246f48db18791751726dd",
            "max": 9912422,
            "min": 0,
            "orientation": "horizontal",
            "style": "IPY_MODEL_496e7533fba649dfa15b34c61f2175a5",
            "value": 9912422
          }
        },
        "921c9ca2466c4e8bb07b6fd5edbb1842": {
          "model_module": "@jupyter-widgets/controls",
          "model_name": "HTMLModel",
          "model_module_version": "1.5.0",
          "state": {
            "_dom_classes": [],
            "_model_module": "@jupyter-widgets/controls",
            "_model_module_version": "1.5.0",
            "_model_name": "HTMLModel",
            "_view_count": null,
            "_view_module": "@jupyter-widgets/controls",
            "_view_module_version": "1.5.0",
            "_view_name": "HTMLView",
            "description": "",
            "description_tooltip": null,
            "layout": "IPY_MODEL_7f2f8d798a3648a394440a8cdc8279d0",
            "placeholder": "​",
            "style": "IPY_MODEL_699d8a944e8f40e98de9ae713cc6f7b7",
            "value": " 9913344/? [00:00&lt;00:00, 68043891.52it/s]"
          }
        },
        "32f5d6ac687f41b7a87755d7a2c33cc2": {
          "model_module": "@jupyter-widgets/base",
          "model_name": "LayoutModel",
          "model_module_version": "1.2.0",
          "state": {
            "_model_module": "@jupyter-widgets/base",
            "_model_module_version": "1.2.0",
            "_model_name": "LayoutModel",
            "_view_count": null,
            "_view_module": "@jupyter-widgets/base",
            "_view_module_version": "1.2.0",
            "_view_name": "LayoutView",
            "align_content": null,
            "align_items": null,
            "align_self": null,
            "border": null,
            "bottom": null,
            "display": null,
            "flex": null,
            "flex_flow": null,
            "grid_area": null,
            "grid_auto_columns": null,
            "grid_auto_flow": null,
            "grid_auto_rows": null,
            "grid_column": null,
            "grid_gap": null,
            "grid_row": null,
            "grid_template_areas": null,
            "grid_template_columns": null,
            "grid_template_rows": null,
            "height": null,
            "justify_content": null,
            "justify_items": null,
            "left": null,
            "margin": null,
            "max_height": null,
            "max_width": null,
            "min_height": null,
            "min_width": null,
            "object_fit": null,
            "object_position": null,
            "order": null,
            "overflow": null,
            "overflow_x": null,
            "overflow_y": null,
            "padding": null,
            "right": null,
            "top": null,
            "visibility": null,
            "width": null
          }
        },
        "c209382b92a14f888e13d09c5c0c6004": {
          "model_module": "@jupyter-widgets/base",
          "model_name": "LayoutModel",
          "model_module_version": "1.2.0",
          "state": {
            "_model_module": "@jupyter-widgets/base",
            "_model_module_version": "1.2.0",
            "_model_name": "LayoutModel",
            "_view_count": null,
            "_view_module": "@jupyter-widgets/base",
            "_view_module_version": "1.2.0",
            "_view_name": "LayoutView",
            "align_content": null,
            "align_items": null,
            "align_self": null,
            "border": null,
            "bottom": null,
            "display": null,
            "flex": null,
            "flex_flow": null,
            "grid_area": null,
            "grid_auto_columns": null,
            "grid_auto_flow": null,
            "grid_auto_rows": null,
            "grid_column": null,
            "grid_gap": null,
            "grid_row": null,
            "grid_template_areas": null,
            "grid_template_columns": null,
            "grid_template_rows": null,
            "height": null,
            "justify_content": null,
            "justify_items": null,
            "left": null,
            "margin": null,
            "max_height": null,
            "max_width": null,
            "min_height": null,
            "min_width": null,
            "object_fit": null,
            "object_position": null,
            "order": null,
            "overflow": null,
            "overflow_x": null,
            "overflow_y": null,
            "padding": null,
            "right": null,
            "top": null,
            "visibility": null,
            "width": null
          }
        },
        "1a8b97ed227442cd8e586c5816f02e51": {
          "model_module": "@jupyter-widgets/controls",
          "model_name": "DescriptionStyleModel",
          "model_module_version": "1.5.0",
          "state": {
            "_model_module": "@jupyter-widgets/controls",
            "_model_module_version": "1.5.0",
            "_model_name": "DescriptionStyleModel",
            "_view_count": null,
            "_view_module": "@jupyter-widgets/base",
            "_view_module_version": "1.2.0",
            "_view_name": "StyleView",
            "description_width": ""
          }
        },
        "0d5babc65ca246f48db18791751726dd": {
          "model_module": "@jupyter-widgets/base",
          "model_name": "LayoutModel",
          "model_module_version": "1.2.0",
          "state": {
            "_model_module": "@jupyter-widgets/base",
            "_model_module_version": "1.2.0",
            "_model_name": "LayoutModel",
            "_view_count": null,
            "_view_module": "@jupyter-widgets/base",
            "_view_module_version": "1.2.0",
            "_view_name": "LayoutView",
            "align_content": null,
            "align_items": null,
            "align_self": null,
            "border": null,
            "bottom": null,
            "display": null,
            "flex": null,
            "flex_flow": null,
            "grid_area": null,
            "grid_auto_columns": null,
            "grid_auto_flow": null,
            "grid_auto_rows": null,
            "grid_column": null,
            "grid_gap": null,
            "grid_row": null,
            "grid_template_areas": null,
            "grid_template_columns": null,
            "grid_template_rows": null,
            "height": null,
            "justify_content": null,
            "justify_items": null,
            "left": null,
            "margin": null,
            "max_height": null,
            "max_width": null,
            "min_height": null,
            "min_width": null,
            "object_fit": null,
            "object_position": null,
            "order": null,
            "overflow": null,
            "overflow_x": null,
            "overflow_y": null,
            "padding": null,
            "right": null,
            "top": null,
            "visibility": null,
            "width": null
          }
        },
        "496e7533fba649dfa15b34c61f2175a5": {
          "model_module": "@jupyter-widgets/controls",
          "model_name": "ProgressStyleModel",
          "model_module_version": "1.5.0",
          "state": {
            "_model_module": "@jupyter-widgets/controls",
            "_model_module_version": "1.5.0",
            "_model_name": "ProgressStyleModel",
            "_view_count": null,
            "_view_module": "@jupyter-widgets/base",
            "_view_module_version": "1.2.0",
            "_view_name": "StyleView",
            "bar_color": null,
            "description_width": ""
          }
        },
        "7f2f8d798a3648a394440a8cdc8279d0": {
          "model_module": "@jupyter-widgets/base",
          "model_name": "LayoutModel",
          "model_module_version": "1.2.0",
          "state": {
            "_model_module": "@jupyter-widgets/base",
            "_model_module_version": "1.2.0",
            "_model_name": "LayoutModel",
            "_view_count": null,
            "_view_module": "@jupyter-widgets/base",
            "_view_module_version": "1.2.0",
            "_view_name": "LayoutView",
            "align_content": null,
            "align_items": null,
            "align_self": null,
            "border": null,
            "bottom": null,
            "display": null,
            "flex": null,
            "flex_flow": null,
            "grid_area": null,
            "grid_auto_columns": null,
            "grid_auto_flow": null,
            "grid_auto_rows": null,
            "grid_column": null,
            "grid_gap": null,
            "grid_row": null,
            "grid_template_areas": null,
            "grid_template_columns": null,
            "grid_template_rows": null,
            "height": null,
            "justify_content": null,
            "justify_items": null,
            "left": null,
            "margin": null,
            "max_height": null,
            "max_width": null,
            "min_height": null,
            "min_width": null,
            "object_fit": null,
            "object_position": null,
            "order": null,
            "overflow": null,
            "overflow_x": null,
            "overflow_y": null,
            "padding": null,
            "right": null,
            "top": null,
            "visibility": null,
            "width": null
          }
        },
        "699d8a944e8f40e98de9ae713cc6f7b7": {
          "model_module": "@jupyter-widgets/controls",
          "model_name": "DescriptionStyleModel",
          "model_module_version": "1.5.0",
          "state": {
            "_model_module": "@jupyter-widgets/controls",
            "_model_module_version": "1.5.0",
            "_model_name": "DescriptionStyleModel",
            "_view_count": null,
            "_view_module": "@jupyter-widgets/base",
            "_view_module_version": "1.2.0",
            "_view_name": "StyleView",
            "description_width": ""
          }
        },
        "dc37894aef434e4ab5b6ce3e206fccb4": {
          "model_module": "@jupyter-widgets/controls",
          "model_name": "HBoxModel",
          "model_module_version": "1.5.0",
          "state": {
            "_dom_classes": [],
            "_model_module": "@jupyter-widgets/controls",
            "_model_module_version": "1.5.0",
            "_model_name": "HBoxModel",
            "_view_count": null,
            "_view_module": "@jupyter-widgets/controls",
            "_view_module_version": "1.5.0",
            "_view_name": "HBoxView",
            "box_style": "",
            "children": [
              "IPY_MODEL_ad21153aeb184b23a449bed45a37bf71",
              "IPY_MODEL_6cc2b0b4d812449099a336066f707702",
              "IPY_MODEL_e753c228e2d642b8a1bb8fbd8ec5cafd"
            ],
            "layout": "IPY_MODEL_874d72293a0b4543afdab4ea7df260ef"
          }
        },
        "ad21153aeb184b23a449bed45a37bf71": {
          "model_module": "@jupyter-widgets/controls",
          "model_name": "HTMLModel",
          "model_module_version": "1.5.0",
          "state": {
            "_dom_classes": [],
            "_model_module": "@jupyter-widgets/controls",
            "_model_module_version": "1.5.0",
            "_model_name": "HTMLModel",
            "_view_count": null,
            "_view_module": "@jupyter-widgets/controls",
            "_view_module_version": "1.5.0",
            "_view_name": "HTMLView",
            "description": "",
            "description_tooltip": null,
            "layout": "IPY_MODEL_3fa87097e2c5444f8a27b7155e3a87cd",
            "placeholder": "​",
            "style": "IPY_MODEL_879f10aaa2c54bcfbaf3eadedaacc247",
            "value": ""
          }
        },
        "6cc2b0b4d812449099a336066f707702": {
          "model_module": "@jupyter-widgets/controls",
          "model_name": "FloatProgressModel",
          "model_module_version": "1.5.0",
          "state": {
            "_dom_classes": [],
            "_model_module": "@jupyter-widgets/controls",
            "_model_module_version": "1.5.0",
            "_model_name": "FloatProgressModel",
            "_view_count": null,
            "_view_module": "@jupyter-widgets/controls",
            "_view_module_version": "1.5.0",
            "_view_name": "ProgressView",
            "bar_style": "success",
            "description": "",
            "description_tooltip": null,
            "layout": "IPY_MODEL_60f06ae13c004cb1a5ee36fc0df9da3c",
            "max": 28881,
            "min": 0,
            "orientation": "horizontal",
            "style": "IPY_MODEL_d9adc7145ad644bfa420ffebd2027ed7",
            "value": 28881
          }
        },
        "e753c228e2d642b8a1bb8fbd8ec5cafd": {
          "model_module": "@jupyter-widgets/controls",
          "model_name": "HTMLModel",
          "model_module_version": "1.5.0",
          "state": {
            "_dom_classes": [],
            "_model_module": "@jupyter-widgets/controls",
            "_model_module_version": "1.5.0",
            "_model_name": "HTMLModel",
            "_view_count": null,
            "_view_module": "@jupyter-widgets/controls",
            "_view_module_version": "1.5.0",
            "_view_name": "HTMLView",
            "description": "",
            "description_tooltip": null,
            "layout": "IPY_MODEL_b776f3e2c1b24baf99794c7cb6aa6ea1",
            "placeholder": "​",
            "style": "IPY_MODEL_443a3015652c4344a2109fb5dd8c8a2a",
            "value": " 29696/? [00:00&lt;00:00, 824386.29it/s]"
          }
        },
        "874d72293a0b4543afdab4ea7df260ef": {
          "model_module": "@jupyter-widgets/base",
          "model_name": "LayoutModel",
          "model_module_version": "1.2.0",
          "state": {
            "_model_module": "@jupyter-widgets/base",
            "_model_module_version": "1.2.0",
            "_model_name": "LayoutModel",
            "_view_count": null,
            "_view_module": "@jupyter-widgets/base",
            "_view_module_version": "1.2.0",
            "_view_name": "LayoutView",
            "align_content": null,
            "align_items": null,
            "align_self": null,
            "border": null,
            "bottom": null,
            "display": null,
            "flex": null,
            "flex_flow": null,
            "grid_area": null,
            "grid_auto_columns": null,
            "grid_auto_flow": null,
            "grid_auto_rows": null,
            "grid_column": null,
            "grid_gap": null,
            "grid_row": null,
            "grid_template_areas": null,
            "grid_template_columns": null,
            "grid_template_rows": null,
            "height": null,
            "justify_content": null,
            "justify_items": null,
            "left": null,
            "margin": null,
            "max_height": null,
            "max_width": null,
            "min_height": null,
            "min_width": null,
            "object_fit": null,
            "object_position": null,
            "order": null,
            "overflow": null,
            "overflow_x": null,
            "overflow_y": null,
            "padding": null,
            "right": null,
            "top": null,
            "visibility": null,
            "width": null
          }
        },
        "3fa87097e2c5444f8a27b7155e3a87cd": {
          "model_module": "@jupyter-widgets/base",
          "model_name": "LayoutModel",
          "model_module_version": "1.2.0",
          "state": {
            "_model_module": "@jupyter-widgets/base",
            "_model_module_version": "1.2.0",
            "_model_name": "LayoutModel",
            "_view_count": null,
            "_view_module": "@jupyter-widgets/base",
            "_view_module_version": "1.2.0",
            "_view_name": "LayoutView",
            "align_content": null,
            "align_items": null,
            "align_self": null,
            "border": null,
            "bottom": null,
            "display": null,
            "flex": null,
            "flex_flow": null,
            "grid_area": null,
            "grid_auto_columns": null,
            "grid_auto_flow": null,
            "grid_auto_rows": null,
            "grid_column": null,
            "grid_gap": null,
            "grid_row": null,
            "grid_template_areas": null,
            "grid_template_columns": null,
            "grid_template_rows": null,
            "height": null,
            "justify_content": null,
            "justify_items": null,
            "left": null,
            "margin": null,
            "max_height": null,
            "max_width": null,
            "min_height": null,
            "min_width": null,
            "object_fit": null,
            "object_position": null,
            "order": null,
            "overflow": null,
            "overflow_x": null,
            "overflow_y": null,
            "padding": null,
            "right": null,
            "top": null,
            "visibility": null,
            "width": null
          }
        },
        "879f10aaa2c54bcfbaf3eadedaacc247": {
          "model_module": "@jupyter-widgets/controls",
          "model_name": "DescriptionStyleModel",
          "model_module_version": "1.5.0",
          "state": {
            "_model_module": "@jupyter-widgets/controls",
            "_model_module_version": "1.5.0",
            "_model_name": "DescriptionStyleModel",
            "_view_count": null,
            "_view_module": "@jupyter-widgets/base",
            "_view_module_version": "1.2.0",
            "_view_name": "StyleView",
            "description_width": ""
          }
        },
        "60f06ae13c004cb1a5ee36fc0df9da3c": {
          "model_module": "@jupyter-widgets/base",
          "model_name": "LayoutModel",
          "model_module_version": "1.2.0",
          "state": {
            "_model_module": "@jupyter-widgets/base",
            "_model_module_version": "1.2.0",
            "_model_name": "LayoutModel",
            "_view_count": null,
            "_view_module": "@jupyter-widgets/base",
            "_view_module_version": "1.2.0",
            "_view_name": "LayoutView",
            "align_content": null,
            "align_items": null,
            "align_self": null,
            "border": null,
            "bottom": null,
            "display": null,
            "flex": null,
            "flex_flow": null,
            "grid_area": null,
            "grid_auto_columns": null,
            "grid_auto_flow": null,
            "grid_auto_rows": null,
            "grid_column": null,
            "grid_gap": null,
            "grid_row": null,
            "grid_template_areas": null,
            "grid_template_columns": null,
            "grid_template_rows": null,
            "height": null,
            "justify_content": null,
            "justify_items": null,
            "left": null,
            "margin": null,
            "max_height": null,
            "max_width": null,
            "min_height": null,
            "min_width": null,
            "object_fit": null,
            "object_position": null,
            "order": null,
            "overflow": null,
            "overflow_x": null,
            "overflow_y": null,
            "padding": null,
            "right": null,
            "top": null,
            "visibility": null,
            "width": null
          }
        },
        "d9adc7145ad644bfa420ffebd2027ed7": {
          "model_module": "@jupyter-widgets/controls",
          "model_name": "ProgressStyleModel",
          "model_module_version": "1.5.0",
          "state": {
            "_model_module": "@jupyter-widgets/controls",
            "_model_module_version": "1.5.0",
            "_model_name": "ProgressStyleModel",
            "_view_count": null,
            "_view_module": "@jupyter-widgets/base",
            "_view_module_version": "1.2.0",
            "_view_name": "StyleView",
            "bar_color": null,
            "description_width": ""
          }
        },
        "b776f3e2c1b24baf99794c7cb6aa6ea1": {
          "model_module": "@jupyter-widgets/base",
          "model_name": "LayoutModel",
          "model_module_version": "1.2.0",
          "state": {
            "_model_module": "@jupyter-widgets/base",
            "_model_module_version": "1.2.0",
            "_model_name": "LayoutModel",
            "_view_count": null,
            "_view_module": "@jupyter-widgets/base",
            "_view_module_version": "1.2.0",
            "_view_name": "LayoutView",
            "align_content": null,
            "align_items": null,
            "align_self": null,
            "border": null,
            "bottom": null,
            "display": null,
            "flex": null,
            "flex_flow": null,
            "grid_area": null,
            "grid_auto_columns": null,
            "grid_auto_flow": null,
            "grid_auto_rows": null,
            "grid_column": null,
            "grid_gap": null,
            "grid_row": null,
            "grid_template_areas": null,
            "grid_template_columns": null,
            "grid_template_rows": null,
            "height": null,
            "justify_content": null,
            "justify_items": null,
            "left": null,
            "margin": null,
            "max_height": null,
            "max_width": null,
            "min_height": null,
            "min_width": null,
            "object_fit": null,
            "object_position": null,
            "order": null,
            "overflow": null,
            "overflow_x": null,
            "overflow_y": null,
            "padding": null,
            "right": null,
            "top": null,
            "visibility": null,
            "width": null
          }
        },
        "443a3015652c4344a2109fb5dd8c8a2a": {
          "model_module": "@jupyter-widgets/controls",
          "model_name": "DescriptionStyleModel",
          "model_module_version": "1.5.0",
          "state": {
            "_model_module": "@jupyter-widgets/controls",
            "_model_module_version": "1.5.0",
            "_model_name": "DescriptionStyleModel",
            "_view_count": null,
            "_view_module": "@jupyter-widgets/base",
            "_view_module_version": "1.2.0",
            "_view_name": "StyleView",
            "description_width": ""
          }
        },
        "f1791566404748c7ad8736aaa803ed49": {
          "model_module": "@jupyter-widgets/controls",
          "model_name": "HBoxModel",
          "model_module_version": "1.5.0",
          "state": {
            "_dom_classes": [],
            "_model_module": "@jupyter-widgets/controls",
            "_model_module_version": "1.5.0",
            "_model_name": "HBoxModel",
            "_view_count": null,
            "_view_module": "@jupyter-widgets/controls",
            "_view_module_version": "1.5.0",
            "_view_name": "HBoxView",
            "box_style": "",
            "children": [
              "IPY_MODEL_99787aed4b594dacb291f8912d83aa3c",
              "IPY_MODEL_2cc2bbf73e874dbdba06459df9727745",
              "IPY_MODEL_dfc2bd6d15b541b6a84f6a8a905aa575"
            ],
            "layout": "IPY_MODEL_6d20facbe24f4e6cb43335f328697b62"
          }
        },
        "99787aed4b594dacb291f8912d83aa3c": {
          "model_module": "@jupyter-widgets/controls",
          "model_name": "HTMLModel",
          "model_module_version": "1.5.0",
          "state": {
            "_dom_classes": [],
            "_model_module": "@jupyter-widgets/controls",
            "_model_module_version": "1.5.0",
            "_model_name": "HTMLModel",
            "_view_count": null,
            "_view_module": "@jupyter-widgets/controls",
            "_view_module_version": "1.5.0",
            "_view_name": "HTMLView",
            "description": "",
            "description_tooltip": null,
            "layout": "IPY_MODEL_7503b951b1ea4f0991e687120aadf2e0",
            "placeholder": "​",
            "style": "IPY_MODEL_eacebb97266842849288a6f63041a3a4",
            "value": ""
          }
        },
        "2cc2bbf73e874dbdba06459df9727745": {
          "model_module": "@jupyter-widgets/controls",
          "model_name": "FloatProgressModel",
          "model_module_version": "1.5.0",
          "state": {
            "_dom_classes": [],
            "_model_module": "@jupyter-widgets/controls",
            "_model_module_version": "1.5.0",
            "_model_name": "FloatProgressModel",
            "_view_count": null,
            "_view_module": "@jupyter-widgets/controls",
            "_view_module_version": "1.5.0",
            "_view_name": "ProgressView",
            "bar_style": "success",
            "description": "",
            "description_tooltip": null,
            "layout": "IPY_MODEL_3a1a24902bd547a0b82c3a22b6e2b7be",
            "max": 1648877,
            "min": 0,
            "orientation": "horizontal",
            "style": "IPY_MODEL_d7b9ea8ba6ea46e28fa691d5597418f3",
            "value": 1648877
          }
        },
        "dfc2bd6d15b541b6a84f6a8a905aa575": {
          "model_module": "@jupyter-widgets/controls",
          "model_name": "HTMLModel",
          "model_module_version": "1.5.0",
          "state": {
            "_dom_classes": [],
            "_model_module": "@jupyter-widgets/controls",
            "_model_module_version": "1.5.0",
            "_model_name": "HTMLModel",
            "_view_count": null,
            "_view_module": "@jupyter-widgets/controls",
            "_view_module_version": "1.5.0",
            "_view_name": "HTMLView",
            "description": "",
            "description_tooltip": null,
            "layout": "IPY_MODEL_eb97a84fe99146dfa04c052f6834e714",
            "placeholder": "​",
            "style": "IPY_MODEL_4c642620895e4a9a82b1f65b9a3be867",
            "value": " 1649664/? [00:00&lt;00:00, 29845717.22it/s]"
          }
        },
        "6d20facbe24f4e6cb43335f328697b62": {
          "model_module": "@jupyter-widgets/base",
          "model_name": "LayoutModel",
          "model_module_version": "1.2.0",
          "state": {
            "_model_module": "@jupyter-widgets/base",
            "_model_module_version": "1.2.0",
            "_model_name": "LayoutModel",
            "_view_count": null,
            "_view_module": "@jupyter-widgets/base",
            "_view_module_version": "1.2.0",
            "_view_name": "LayoutView",
            "align_content": null,
            "align_items": null,
            "align_self": null,
            "border": null,
            "bottom": null,
            "display": null,
            "flex": null,
            "flex_flow": null,
            "grid_area": null,
            "grid_auto_columns": null,
            "grid_auto_flow": null,
            "grid_auto_rows": null,
            "grid_column": null,
            "grid_gap": null,
            "grid_row": null,
            "grid_template_areas": null,
            "grid_template_columns": null,
            "grid_template_rows": null,
            "height": null,
            "justify_content": null,
            "justify_items": null,
            "left": null,
            "margin": null,
            "max_height": null,
            "max_width": null,
            "min_height": null,
            "min_width": null,
            "object_fit": null,
            "object_position": null,
            "order": null,
            "overflow": null,
            "overflow_x": null,
            "overflow_y": null,
            "padding": null,
            "right": null,
            "top": null,
            "visibility": null,
            "width": null
          }
        },
        "7503b951b1ea4f0991e687120aadf2e0": {
          "model_module": "@jupyter-widgets/base",
          "model_name": "LayoutModel",
          "model_module_version": "1.2.0",
          "state": {
            "_model_module": "@jupyter-widgets/base",
            "_model_module_version": "1.2.0",
            "_model_name": "LayoutModel",
            "_view_count": null,
            "_view_module": "@jupyter-widgets/base",
            "_view_module_version": "1.2.0",
            "_view_name": "LayoutView",
            "align_content": null,
            "align_items": null,
            "align_self": null,
            "border": null,
            "bottom": null,
            "display": null,
            "flex": null,
            "flex_flow": null,
            "grid_area": null,
            "grid_auto_columns": null,
            "grid_auto_flow": null,
            "grid_auto_rows": null,
            "grid_column": null,
            "grid_gap": null,
            "grid_row": null,
            "grid_template_areas": null,
            "grid_template_columns": null,
            "grid_template_rows": null,
            "height": null,
            "justify_content": null,
            "justify_items": null,
            "left": null,
            "margin": null,
            "max_height": null,
            "max_width": null,
            "min_height": null,
            "min_width": null,
            "object_fit": null,
            "object_position": null,
            "order": null,
            "overflow": null,
            "overflow_x": null,
            "overflow_y": null,
            "padding": null,
            "right": null,
            "top": null,
            "visibility": null,
            "width": null
          }
        },
        "eacebb97266842849288a6f63041a3a4": {
          "model_module": "@jupyter-widgets/controls",
          "model_name": "DescriptionStyleModel",
          "model_module_version": "1.5.0",
          "state": {
            "_model_module": "@jupyter-widgets/controls",
            "_model_module_version": "1.5.0",
            "_model_name": "DescriptionStyleModel",
            "_view_count": null,
            "_view_module": "@jupyter-widgets/base",
            "_view_module_version": "1.2.0",
            "_view_name": "StyleView",
            "description_width": ""
          }
        },
        "3a1a24902bd547a0b82c3a22b6e2b7be": {
          "model_module": "@jupyter-widgets/base",
          "model_name": "LayoutModel",
          "model_module_version": "1.2.0",
          "state": {
            "_model_module": "@jupyter-widgets/base",
            "_model_module_version": "1.2.0",
            "_model_name": "LayoutModel",
            "_view_count": null,
            "_view_module": "@jupyter-widgets/base",
            "_view_module_version": "1.2.0",
            "_view_name": "LayoutView",
            "align_content": null,
            "align_items": null,
            "align_self": null,
            "border": null,
            "bottom": null,
            "display": null,
            "flex": null,
            "flex_flow": null,
            "grid_area": null,
            "grid_auto_columns": null,
            "grid_auto_flow": null,
            "grid_auto_rows": null,
            "grid_column": null,
            "grid_gap": null,
            "grid_row": null,
            "grid_template_areas": null,
            "grid_template_columns": null,
            "grid_template_rows": null,
            "height": null,
            "justify_content": null,
            "justify_items": null,
            "left": null,
            "margin": null,
            "max_height": null,
            "max_width": null,
            "min_height": null,
            "min_width": null,
            "object_fit": null,
            "object_position": null,
            "order": null,
            "overflow": null,
            "overflow_x": null,
            "overflow_y": null,
            "padding": null,
            "right": null,
            "top": null,
            "visibility": null,
            "width": null
          }
        },
        "d7b9ea8ba6ea46e28fa691d5597418f3": {
          "model_module": "@jupyter-widgets/controls",
          "model_name": "ProgressStyleModel",
          "model_module_version": "1.5.0",
          "state": {
            "_model_module": "@jupyter-widgets/controls",
            "_model_module_version": "1.5.0",
            "_model_name": "ProgressStyleModel",
            "_view_count": null,
            "_view_module": "@jupyter-widgets/base",
            "_view_module_version": "1.2.0",
            "_view_name": "StyleView",
            "bar_color": null,
            "description_width": ""
          }
        },
        "eb97a84fe99146dfa04c052f6834e714": {
          "model_module": "@jupyter-widgets/base",
          "model_name": "LayoutModel",
          "model_module_version": "1.2.0",
          "state": {
            "_model_module": "@jupyter-widgets/base",
            "_model_module_version": "1.2.0",
            "_model_name": "LayoutModel",
            "_view_count": null,
            "_view_module": "@jupyter-widgets/base",
            "_view_module_version": "1.2.0",
            "_view_name": "LayoutView",
            "align_content": null,
            "align_items": null,
            "align_self": null,
            "border": null,
            "bottom": null,
            "display": null,
            "flex": null,
            "flex_flow": null,
            "grid_area": null,
            "grid_auto_columns": null,
            "grid_auto_flow": null,
            "grid_auto_rows": null,
            "grid_column": null,
            "grid_gap": null,
            "grid_row": null,
            "grid_template_areas": null,
            "grid_template_columns": null,
            "grid_template_rows": null,
            "height": null,
            "justify_content": null,
            "justify_items": null,
            "left": null,
            "margin": null,
            "max_height": null,
            "max_width": null,
            "min_height": null,
            "min_width": null,
            "object_fit": null,
            "object_position": null,
            "order": null,
            "overflow": null,
            "overflow_x": null,
            "overflow_y": null,
            "padding": null,
            "right": null,
            "top": null,
            "visibility": null,
            "width": null
          }
        },
        "4c642620895e4a9a82b1f65b9a3be867": {
          "model_module": "@jupyter-widgets/controls",
          "model_name": "DescriptionStyleModel",
          "model_module_version": "1.5.0",
          "state": {
            "_model_module": "@jupyter-widgets/controls",
            "_model_module_version": "1.5.0",
            "_model_name": "DescriptionStyleModel",
            "_view_count": null,
            "_view_module": "@jupyter-widgets/base",
            "_view_module_version": "1.2.0",
            "_view_name": "StyleView",
            "description_width": ""
          }
        },
        "03ed0b5d55934df8adc8e3d16f352663": {
          "model_module": "@jupyter-widgets/controls",
          "model_name": "HBoxModel",
          "model_module_version": "1.5.0",
          "state": {
            "_dom_classes": [],
            "_model_module": "@jupyter-widgets/controls",
            "_model_module_version": "1.5.0",
            "_model_name": "HBoxModel",
            "_view_count": null,
            "_view_module": "@jupyter-widgets/controls",
            "_view_module_version": "1.5.0",
            "_view_name": "HBoxView",
            "box_style": "",
            "children": [
              "IPY_MODEL_eb892755e1fd46518ef083e840694525",
              "IPY_MODEL_e1641b621780409d89b7c08528ad6bb6",
              "IPY_MODEL_20ff2431610641dd89f480332e8c2298"
            ],
            "layout": "IPY_MODEL_0f73405dfb754ef7ae4b005a19294bc6"
          }
        },
        "eb892755e1fd46518ef083e840694525": {
          "model_module": "@jupyter-widgets/controls",
          "model_name": "HTMLModel",
          "model_module_version": "1.5.0",
          "state": {
            "_dom_classes": [],
            "_model_module": "@jupyter-widgets/controls",
            "_model_module_version": "1.5.0",
            "_model_name": "HTMLModel",
            "_view_count": null,
            "_view_module": "@jupyter-widgets/controls",
            "_view_module_version": "1.5.0",
            "_view_name": "HTMLView",
            "description": "",
            "description_tooltip": null,
            "layout": "IPY_MODEL_5d1e0a4ed6d14a4d983e03f562a030c1",
            "placeholder": "​",
            "style": "IPY_MODEL_5bcec8e709d24c88b1c6a04fc8a3c513",
            "value": ""
          }
        },
        "e1641b621780409d89b7c08528ad6bb6": {
          "model_module": "@jupyter-widgets/controls",
          "model_name": "FloatProgressModel",
          "model_module_version": "1.5.0",
          "state": {
            "_dom_classes": [],
            "_model_module": "@jupyter-widgets/controls",
            "_model_module_version": "1.5.0",
            "_model_name": "FloatProgressModel",
            "_view_count": null,
            "_view_module": "@jupyter-widgets/controls",
            "_view_module_version": "1.5.0",
            "_view_name": "ProgressView",
            "bar_style": "success",
            "description": "",
            "description_tooltip": null,
            "layout": "IPY_MODEL_bc93e11a8f664f74adcf98e3d7076d78",
            "max": 4542,
            "min": 0,
            "orientation": "horizontal",
            "style": "IPY_MODEL_ed5cb75eefb5417ab6efbb12ab8e9810",
            "value": 4542
          }
        },
        "20ff2431610641dd89f480332e8c2298": {
          "model_module": "@jupyter-widgets/controls",
          "model_name": "HTMLModel",
          "model_module_version": "1.5.0",
          "state": {
            "_dom_classes": [],
            "_model_module": "@jupyter-widgets/controls",
            "_model_module_version": "1.5.0",
            "_model_name": "HTMLModel",
            "_view_count": null,
            "_view_module": "@jupyter-widgets/controls",
            "_view_module_version": "1.5.0",
            "_view_name": "HTMLView",
            "description": "",
            "description_tooltip": null,
            "layout": "IPY_MODEL_8f450e80e0424ee1a4a927fe368c84f5",
            "placeholder": "​",
            "style": "IPY_MODEL_6585ec225dee4d7a9b62daa165c10f5d",
            "value": " 5120/? [00:00&lt;00:00, 125779.50it/s]"
          }
        },
        "0f73405dfb754ef7ae4b005a19294bc6": {
          "model_module": "@jupyter-widgets/base",
          "model_name": "LayoutModel",
          "model_module_version": "1.2.0",
          "state": {
            "_model_module": "@jupyter-widgets/base",
            "_model_module_version": "1.2.0",
            "_model_name": "LayoutModel",
            "_view_count": null,
            "_view_module": "@jupyter-widgets/base",
            "_view_module_version": "1.2.0",
            "_view_name": "LayoutView",
            "align_content": null,
            "align_items": null,
            "align_self": null,
            "border": null,
            "bottom": null,
            "display": null,
            "flex": null,
            "flex_flow": null,
            "grid_area": null,
            "grid_auto_columns": null,
            "grid_auto_flow": null,
            "grid_auto_rows": null,
            "grid_column": null,
            "grid_gap": null,
            "grid_row": null,
            "grid_template_areas": null,
            "grid_template_columns": null,
            "grid_template_rows": null,
            "height": null,
            "justify_content": null,
            "justify_items": null,
            "left": null,
            "margin": null,
            "max_height": null,
            "max_width": null,
            "min_height": null,
            "min_width": null,
            "object_fit": null,
            "object_position": null,
            "order": null,
            "overflow": null,
            "overflow_x": null,
            "overflow_y": null,
            "padding": null,
            "right": null,
            "top": null,
            "visibility": null,
            "width": null
          }
        },
        "5d1e0a4ed6d14a4d983e03f562a030c1": {
          "model_module": "@jupyter-widgets/base",
          "model_name": "LayoutModel",
          "model_module_version": "1.2.0",
          "state": {
            "_model_module": "@jupyter-widgets/base",
            "_model_module_version": "1.2.0",
            "_model_name": "LayoutModel",
            "_view_count": null,
            "_view_module": "@jupyter-widgets/base",
            "_view_module_version": "1.2.0",
            "_view_name": "LayoutView",
            "align_content": null,
            "align_items": null,
            "align_self": null,
            "border": null,
            "bottom": null,
            "display": null,
            "flex": null,
            "flex_flow": null,
            "grid_area": null,
            "grid_auto_columns": null,
            "grid_auto_flow": null,
            "grid_auto_rows": null,
            "grid_column": null,
            "grid_gap": null,
            "grid_row": null,
            "grid_template_areas": null,
            "grid_template_columns": null,
            "grid_template_rows": null,
            "height": null,
            "justify_content": null,
            "justify_items": null,
            "left": null,
            "margin": null,
            "max_height": null,
            "max_width": null,
            "min_height": null,
            "min_width": null,
            "object_fit": null,
            "object_position": null,
            "order": null,
            "overflow": null,
            "overflow_x": null,
            "overflow_y": null,
            "padding": null,
            "right": null,
            "top": null,
            "visibility": null,
            "width": null
          }
        },
        "5bcec8e709d24c88b1c6a04fc8a3c513": {
          "model_module": "@jupyter-widgets/controls",
          "model_name": "DescriptionStyleModel",
          "model_module_version": "1.5.0",
          "state": {
            "_model_module": "@jupyter-widgets/controls",
            "_model_module_version": "1.5.0",
            "_model_name": "DescriptionStyleModel",
            "_view_count": null,
            "_view_module": "@jupyter-widgets/base",
            "_view_module_version": "1.2.0",
            "_view_name": "StyleView",
            "description_width": ""
          }
        },
        "bc93e11a8f664f74adcf98e3d7076d78": {
          "model_module": "@jupyter-widgets/base",
          "model_name": "LayoutModel",
          "model_module_version": "1.2.0",
          "state": {
            "_model_module": "@jupyter-widgets/base",
            "_model_module_version": "1.2.0",
            "_model_name": "LayoutModel",
            "_view_count": null,
            "_view_module": "@jupyter-widgets/base",
            "_view_module_version": "1.2.0",
            "_view_name": "LayoutView",
            "align_content": null,
            "align_items": null,
            "align_self": null,
            "border": null,
            "bottom": null,
            "display": null,
            "flex": null,
            "flex_flow": null,
            "grid_area": null,
            "grid_auto_columns": null,
            "grid_auto_flow": null,
            "grid_auto_rows": null,
            "grid_column": null,
            "grid_gap": null,
            "grid_row": null,
            "grid_template_areas": null,
            "grid_template_columns": null,
            "grid_template_rows": null,
            "height": null,
            "justify_content": null,
            "justify_items": null,
            "left": null,
            "margin": null,
            "max_height": null,
            "max_width": null,
            "min_height": null,
            "min_width": null,
            "object_fit": null,
            "object_position": null,
            "order": null,
            "overflow": null,
            "overflow_x": null,
            "overflow_y": null,
            "padding": null,
            "right": null,
            "top": null,
            "visibility": null,
            "width": null
          }
        },
        "ed5cb75eefb5417ab6efbb12ab8e9810": {
          "model_module": "@jupyter-widgets/controls",
          "model_name": "ProgressStyleModel",
          "model_module_version": "1.5.0",
          "state": {
            "_model_module": "@jupyter-widgets/controls",
            "_model_module_version": "1.5.0",
            "_model_name": "ProgressStyleModel",
            "_view_count": null,
            "_view_module": "@jupyter-widgets/base",
            "_view_module_version": "1.2.0",
            "_view_name": "StyleView",
            "bar_color": null,
            "description_width": ""
          }
        },
        "8f450e80e0424ee1a4a927fe368c84f5": {
          "model_module": "@jupyter-widgets/base",
          "model_name": "LayoutModel",
          "model_module_version": "1.2.0",
          "state": {
            "_model_module": "@jupyter-widgets/base",
            "_model_module_version": "1.2.0",
            "_model_name": "LayoutModel",
            "_view_count": null,
            "_view_module": "@jupyter-widgets/base",
            "_view_module_version": "1.2.0",
            "_view_name": "LayoutView",
            "align_content": null,
            "align_items": null,
            "align_self": null,
            "border": null,
            "bottom": null,
            "display": null,
            "flex": null,
            "flex_flow": null,
            "grid_area": null,
            "grid_auto_columns": null,
            "grid_auto_flow": null,
            "grid_auto_rows": null,
            "grid_column": null,
            "grid_gap": null,
            "grid_row": null,
            "grid_template_areas": null,
            "grid_template_columns": null,
            "grid_template_rows": null,
            "height": null,
            "justify_content": null,
            "justify_items": null,
            "left": null,
            "margin": null,
            "max_height": null,
            "max_width": null,
            "min_height": null,
            "min_width": null,
            "object_fit": null,
            "object_position": null,
            "order": null,
            "overflow": null,
            "overflow_x": null,
            "overflow_y": null,
            "padding": null,
            "right": null,
            "top": null,
            "visibility": null,
            "width": null
          }
        },
        "6585ec225dee4d7a9b62daa165c10f5d": {
          "model_module": "@jupyter-widgets/controls",
          "model_name": "DescriptionStyleModel",
          "model_module_version": "1.5.0",
          "state": {
            "_model_module": "@jupyter-widgets/controls",
            "_model_module_version": "1.5.0",
            "_model_name": "DescriptionStyleModel",
            "_view_count": null,
            "_view_module": "@jupyter-widgets/base",
            "_view_module_version": "1.2.0",
            "_view_name": "StyleView",
            "description_width": ""
          }
        }
      }
    }
  },
  "nbformat": 4,
  "nbformat_minor": 5
}